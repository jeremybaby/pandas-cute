{
 "cells": [
  {
   "cell_type": "markdown",
   "metadata": {},
   "source": [
    "## Here are some simple tests for pandas_cute as follows:"
   ]
  },
  {
   "cell_type": "code",
   "execution_count": 6,
   "metadata": {},
   "outputs": [],
   "source": [
    "import numpy as np\n",
    "import pandas_cute as pdc"
   ]
  },
  {
   "cell_type": "code",
   "execution_count": 8,
   "metadata": {},
   "outputs": [],
   "source": [
    "# auto reload\n",
    "%load_ext autoreload\n",
    "%autoreload 2"
   ]
  },
  {
   "cell_type": "code",
   "execution_count": 9,
   "metadata": {},
   "outputs": [
    {
     "data": {
      "text/html": [
       "<table><thead><tr><th></th><th>students  </th><th>courses   </th><th>scores    </th></tr></thead><tbody><tr><td><strong>0</strong></td><td>Tom       </td><td>Math      </td><td>        70</td></tr><tr><td><strong>1</strong></td><td>Tom       </td><td>English   </td><td>        65</td></tr><tr><td><strong>2</strong></td><td>Jack      </td><td>Math      </td><td>        67</td></tr><tr><td><strong>3</strong></td><td>Jack      </td><td>English   </td><td>        91</td></tr></tbody></table>"
      ],
      "text/plain": [
       "<pandas_cute.DataFrame at 0x1132a9fd0>"
      ]
     },
     "execution_count": 9,
     "metadata": {},
     "output_type": "execute_result"
    }
   ],
   "source": [
    "students = np.array(['Tom', 'Tom', 'Jack', 'Jack'])\n",
    "courses = np.array(['Math', 'English', 'Math', 'English'])\n",
    "scores = np.array([70, 65, 67, 91])\n",
    "data = {'students': students, 'courses': courses, 'scores': scores}\n",
    "\n",
    "df = pdc.DataFrame(data)\n",
    "df"
   ]
  },
  {
   "cell_type": "code",
   "execution_count": 11,
   "metadata": {},
   "outputs": [
    {
     "data": {
      "text/plain": [
       "['students', 'courses', 'scores']"
      ]
     },
     "execution_count": 11,
     "metadata": {},
     "output_type": "execute_result"
    }
   ],
   "source": [
    "# columns attribute\n",
    "df.columns"
   ]
  },
  {
   "cell_type": "code",
   "execution_count": 12,
   "metadata": {},
   "outputs": [
    {
     "data": {
      "text/plain": [
       "(4, 3)"
      ]
     },
     "execution_count": 12,
     "metadata": {},
     "output_type": "execute_result"
    }
   ],
   "source": [
    "# columns attribute\n",
    "df.shape"
   ]
  },
  {
   "cell_type": "code",
   "execution_count": 20,
   "metadata": {},
   "outputs": [
    {
     "data": {
      "text/html": [
       "<table><thead><tr><th></th><th>courses   </th></tr></thead><tbody><tr><td><strong>0</strong></td><td>Math      </td></tr><tr><td><strong>1</strong></td><td>English   </td></tr><tr><td><strong>2</strong></td><td>Math      </td></tr><tr><td><strong>3</strong></td><td>English   </td></tr></tbody></table>"
      ],
      "text/plain": [
       "<pandas_cute.DataFrame at 0x120208400>"
      ]
     },
     "execution_count": 20,
     "metadata": {},
     "output_type": "execute_result"
    }
   ],
   "source": [
    "df['courses']"
   ]
  },
  {
   "cell_type": "code",
   "execution_count": 17,
   "metadata": {},
   "outputs": [
    {
     "data": {
      "text/html": [
       "<table><thead><tr><th></th><th>students  </th><th>courses   </th><th>scores    </th></tr></thead><tbody><tr><td><strong>0</strong></td><td>Tom       </td><td>English   </td><td>        65</td></tr><tr><td><strong>1</strong></td><td>Jack      </td><td>Math      </td><td>        67</td></tr><tr><td><strong>2</strong></td><td>Jack      </td><td>English   </td><td>        91</td></tr></tbody></table>"
      ],
      "text/plain": [
       "<pandas_cute.DataFrame at 0x1204fe278>"
      ]
     },
     "execution_count": 17,
     "metadata": {},
     "output_type": "execute_result"
    }
   ],
   "source": [
    "df[1:, :]"
   ]
  },
  {
   "cell_type": "code",
   "execution_count": 22,
   "metadata": {},
   "outputs": [
    {
     "data": {
      "text/html": [
       "<table><thead><tr><th></th><th>students  </th><th>courses   </th><th>scores    </th></tr></thead><tbody><tr><td><strong>0</strong></td><td>Tom       </td><td>Math      </td><td>        70</td></tr><tr><td><strong>1</strong></td><td>Jack      </td><td>Math      </td><td>        67</td></tr><tr><td><strong>2</strong></td><td>Jack      </td><td>English   </td><td>        91</td></tr></tbody></table>"
      ],
      "text/plain": [
       "<pandas_cute.DataFrame at 0x120213ba8>"
      ]
     },
     "execution_count": 22,
     "metadata": {},
     "output_type": "execute_result"
    }
   ],
   "source": [
    "filter = df['scores'] > 65\n",
    "df[filter]"
   ]
  },
  {
   "cell_type": "markdown",
   "metadata": {},
   "source": [
    "## pivot table"
   ]
  },
  {
   "cell_type": "code",
   "execution_count": 18,
   "metadata": {},
   "outputs": [
    {
     "data": {
      "text/html": [
       "<table><thead><tr><th></th><th>students  </th><th>mean      </th></tr></thead><tbody><tr><td><strong>0</strong></td><td>Jack      </td><td>    79.000</td></tr><tr><td><strong>1</strong></td><td>Tom       </td><td>    67.500</td></tr></tbody></table>"
      ],
      "text/plain": [
       "<pandas_cute.DataFrame at 0x111fccdd8>"
      ]
     },
     "execution_count": 18,
     "metadata": {},
     "output_type": "execute_result"
    }
   ],
   "source": [
    "df.pivot_table(rows='students', values='scores', aggfunc='mean')"
   ]
  },
  {
   "cell_type": "code",
   "execution_count": 19,
   "metadata": {},
   "outputs": [
    {
     "data": {
      "text/html": [
       "<table><thead><tr><th></th><th>courses   </th><th>sum       </th></tr></thead><tbody><tr><td><strong>0</strong></td><td>English   </td><td>       156</td></tr><tr><td><strong>1</strong></td><td>Math      </td><td>       137</td></tr></tbody></table>"
      ],
      "text/plain": [
       "<pandas_cute.DataFrame at 0x1205309b0>"
      ]
     },
     "execution_count": 19,
     "metadata": {},
     "output_type": "execute_result"
    }
   ],
   "source": [
    "df.pivot_table(rows='courses', values='scores', aggfunc='sum')"
   ]
  },
  {
   "cell_type": "markdown",
   "metadata": {},
   "source": [
    "## read_csv()"
   ]
  },
  {
   "cell_type": "code",
   "execution_count": 23,
   "metadata": {},
   "outputs": [
    {
     "data": {
      "text/html": [
       "<table><thead><tr><th></th><th>dept      </th><th>race      </th><th>gender    </th><th>salary    </th></tr></thead><tbody><tr><td><strong>0</strong></td><td>Houston Police Department-HPD</td><td>White     </td><td>Male      </td><td>     45279</td></tr><tr><td><strong>1</strong></td><td>Houston Fire Department (HFD)</td><td>White     </td><td>Male      </td><td>     63166</td></tr><tr><td><strong>2</strong></td><td>Houston Police Department-HPD</td><td>Black     </td><td>Male      </td><td>     66614</td></tr><tr><td><strong>3</strong></td><td>Public Works & Engineering-PWE</td><td>Asian     </td><td>Male      </td><td>     71680</td></tr><tr><td><strong>4</strong></td><td>Houston Airport System (HAS)</td><td>White     </td><td>Male      </td><td>     42390</td></tr></tbody></table>"
      ],
      "text/plain": [
       "<pandas_cute.DataFrame at 0x12022d3c8>"
      ]
     },
     "execution_count": 23,
     "metadata": {},
     "output_type": "execute_result"
    }
   ],
   "source": [
    "result = pdc.read_csv('data/employee.csv')\n",
    "result.head()"
   ]
  }
 ],
 "metadata": {
  "kernelspec": {
   "display_name": "Python 3",
   "language": "python",
   "name": "python3"
  },
  "language_info": {
   "codemirror_mode": {
    "name": "ipython",
    "version": 3
   },
   "file_extension": ".py",
   "mimetype": "text/x-python",
   "name": "python",
   "nbconvert_exporter": "python",
   "pygments_lexer": "ipython3",
   "version": "3.7.1"
  }
 },
 "nbformat": 4,
 "nbformat_minor": 2
}
